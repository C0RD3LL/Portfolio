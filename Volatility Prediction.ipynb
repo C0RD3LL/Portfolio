{
  "nbformat": 4,
  "nbformat_minor": 0,
  "metadata": {
    "colab": {
      "name": "Volatility Prediction.ipynb",
      "provenance": [],
      "collapsed_sections": [],
      "authorship_tag": "ABX9TyO1mm9oAEoUiTzy7Vz6MZSa",
      "include_colab_link": true
    },
    "kernelspec": {
      "name": "python3",
      "display_name": "Python 3"
    },
    "language_info": {
      "name": "python"
    }
  },
  "cells": [
    {
      "cell_type": "markdown",
      "metadata": {
        "id": "view-in-github",
        "colab_type": "text"
      },
      "source": [
        "<a href=\"https://colab.research.google.com/github/C0RD3LL/Portfolio/blob/main/Volatility%20Prediction.ipynb\" target=\"_parent\"><img src=\"https://colab.research.google.com/assets/colab-badge.svg\" alt=\"Open In Colab\"/></a>"
      ]
    },
    {
      "cell_type": "markdown",
      "source": [
        "This notebook is inspired by:\n",
        "\n",
        "Zhifeng Dai, Huiting Zhou, Xiaodi Dong, Jie Kang, _\"Forecasting Stock Market Volatility: A Combination Approach\"_, Discrete Dynamics in Nature and Society, vol. 2020, Article ID 1428628, 9 pages, 2020. https://doi.org/10.1155/2020/1428628\n",
        "\n",
        "They found that combining stock market implied volatility and oil volatility, can improve the predictability of stock return volatility.Also, the stock market implied volatility provides more significant predictability than the oil volatility and other nonoil macroeconomic and financial variables. The empirical results show the “kitchen sink” combination approach that using two predictors jointly performs better than not only the univariate regression models which use oil volatility or stock market implied volatility separately but also convex combination of the individual forecasts. This improvement of predictability is also remarkable when we consider the business cycle. Furthermore, the robust test based on different lag lengths and different macroinformation shows that our forecasting strategy is efficient.[0]\n",
        "\n",
        "\n",
        "__Intro__\n",
        "\n",
        "Prediction of stock market volatility has many important applications in risk management, asset pricing, market timing decisions, and portfolio selection. Therefore, modeling and forecasting stock market volatility is an important task and a popular research topic in financial markets [1] \n",
        "\n",
        "\n",
        "Volatility is equivalent to uncertainty; so modeling volatility means to model  uncertainty, enabling us to make approximations of real world uncertainty. To gauge the extent to which proposed models account for the real-world situation, we need to calculate the return volatility, which is also known as realized volatility. Realized volatility is the square root of realized variance, which is the sum of squared return. Realized volatility is used to calculate the performance of the volatility prediction method. \n",
        "\n",
        "I will explore classical volatility methods and new ones as well, in order to determine the best fit. \n",
        "\n",
        "\n",
        "\n",
        "\n",
        "\n"
      ],
      "metadata": {
        "id": "aVyC0P2Ndpj1"
      }
    },
    {
      "cell_type": "code",
      "execution_count": null,
      "metadata": {
        "id": "waWYFBaPdO8H"
      },
      "outputs": [],
      "source": [
        ""
      ]
    },
    {
      "cell_type": "code",
      "source": [
        ""
      ],
      "metadata": {
        "id": "eC8xWrb4iwUV"
      },
      "execution_count": null,
      "outputs": []
    },
    {
      "cell_type": "code",
      "source": [
        ""
      ],
      "metadata": {
        "id": "vyU6L3M-iwXL"
      },
      "execution_count": null,
      "outputs": []
    },
    {
      "cell_type": "code",
      "source": [
        ""
      ],
      "metadata": {
        "id": "nBnxyhG9iwZ5"
      },
      "execution_count": null,
      "outputs": []
    },
    {
      "cell_type": "code",
      "source": [
        ""
      ],
      "metadata": {
        "id": "uyS_AlUYiwco"
      },
      "execution_count": null,
      "outputs": []
    },
    {
      "cell_type": "code",
      "source": [
        ""
      ],
      "metadata": {
        "id": "vMVi76c_iwfW"
      },
      "execution_count": null,
      "outputs": []
    },
    {
      "cell_type": "markdown",
      "source": [
        "1. S. J. Inun, “The usefulness of cross-sectional dispersion for forecasting aggregate stock price volatility,” Journal of Empirical Finance, vol. 36, pp. 162–180, 2016."
      ],
      "metadata": {
        "id": "GgPzawntmTWc"
      }
    }
  ]
}